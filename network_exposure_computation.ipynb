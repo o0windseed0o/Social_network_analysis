{
  "nbformat": 4,
  "nbformat_minor": 0,
  "metadata": {
    "colab": {
      "name": "network exposure computation.ipynb",
      "provenance": [],
      "collapsed_sections": [],
      "authorship_tag": "ABX9TyO/PHg2IwKxDqvrXQrSG8wb",
      "include_colab_link": true
    },
    "kernelspec": {
      "name": "python3",
      "display_name": "Python 3"
    }
  },
  "cells": [
    {
      "cell_type": "markdown",
      "metadata": {
        "id": "view-in-github",
        "colab_type": "text"
      },
      "source": [
        "<a href=\"https://colab.research.google.com/github/o0windseed0o/Social_network_analysis/blob/master/network_exposure_computation.ipynb\" target=\"_parent\"><img src=\"https://colab.research.google.com/assets/colab-badge.svg\" alt=\"Open In Colab\"/></a>"
      ]
    },
    {
      "cell_type": "markdown",
      "metadata": {
        "id": "xd93K5pW7V8w",
        "colab_type": "text"
      },
      "source": [
        "# **Compute network exposure variables using python codes**"
      ]
    },
    {
      "cell_type": "markdown",
      "metadata": {
        "id": "KHatReXigeYp",
        "colab_type": "text"
      },
      "source": [
        "--Author: Yang Xiang <br>\n",
        "--Location: UTHealth, U.S. <br>\n",
        "--Date: 03/07/2020"
      ]
    },
    {
      "cell_type": "markdown",
      "metadata": {
        "id": "12BmSf_v8-P_",
        "colab_type": "text"
      },
      "source": [
        "# Introduction"
      ]
    },
    {
      "cell_type": "markdown",
      "metadata": {
        "id": "ba8wHaGe9Rh3",
        "colab_type": "text"
      },
      "source": [
        "The determination of characteristics of a certain node in a network is sometimes associated with both the node itself and the neighborhood it belongs to. For example, when determining the risk of infection by a disease for node i, the characteristics of its network neighbors are also considered:\n",
        "\\begin{equation*}\n",
        "Risk_i = Risk (Attr_i + \\frac{1}{R}\\sum_{j\\in Nbr(i)}Att_j)\n",
        "\\end{equation*}\n",
        "where the first part of the risk comes from the attributes of the node, and the second part is a weighted summarization from its neighbors (denoted by Nbr(i), and $R$ is the number of its neighbors, behaving as the regularizer), which we call it \"network exposure\".\n",
        "\n",
        "This notebook provides a simplist python function for computing the network exposure, and demonstrates how to use the function by simulating a sexual network for HIV transimission, defining some variables, assigning random values to them, and computing exposures of certain variables. "
      ]
    },
    {
      "cell_type": "markdown",
      "metadata": {
        "id": "wPH6OU1N8wAA",
        "colab_type": "text"
      },
      "source": [
        "# Environment\n",
        "\n"
      ]
    },
    {
      "cell_type": "markdown",
      "metadata": {
        "id": "029cTwmvCV2o",
        "colab_type": "text"
      },
      "source": [
        "Python 3.x <br>\n",
        "Numpy <br>"
      ]
    },
    {
      "cell_type": "markdown",
      "metadata": {
        "id": "dUHL7eKwGQPy",
        "colab_type": "text"
      },
      "source": [
        "# Code"
      ]
    },
    {
      "cell_type": "markdown",
      "metadata": {
        "id": "BZRSGEu1GS3-",
        "colab_type": "text"
      },
      "source": [
        "## define the network"
      ]
    },
    {
      "cell_type": "code",
      "metadata": {
        "id": "jKISVF-jB5Ue",
        "colab_type": "code",
        "outputId": "ae0beb94-f99e-4825-cb43-159f1ddaff62",
        "colab": {
          "base_uri": "https://localhost:8080/",
          "height": 319
        }
      },
      "source": [
        "import numpy as np\n",
        "import networkx as nx\n",
        "\n",
        "NUM_NODES = 5\n",
        "# define a network structure by simulating 5 nodes as well as some edges through\n",
        "# adjacency matrix, note that node 3 in the diagonal is 1, which should be removed\n",
        "# through further processings\n",
        "adj_matrix = [[0,1,1,1,0],\n",
        "              [1,0,1,0,0],\n",
        "              [1,1,0,0,1],\n",
        "              [1,0,0,1,1],\n",
        "              [0,0,1,1,0]]\n",
        "adj_matrix = np.asarray(adj_matrix)\n",
        "G = nx.from_numpy_matrix(adj_matrix) \n",
        "nx.draw(G, with_labels=True)"
      ],
      "execution_count": 25,
      "outputs": [
        {
          "output_type": "display_data",
          "data": {
            "image/png": "[encoded data removed]",
            "text/plain": [
              "<Figure size 432x288 with 1 Axes>"
            ]
          },
          "metadata": {
            "tags": []
          }
        }
      ]
    },
    {
      "cell_type": "markdown",
      "metadata": {
        "id": "PJd-G1VFGcDd",
        "colab_type": "text"
      },
      "source": [
        "## Define the attributes for each node."
      ]
    },
    {
      "cell_type": "code",
      "metadata": {
        "id": "GfyaimWQEQJ5",
        "colab_type": "code",
        "outputId": "04e259a2-112f-4ae7-9f77-8589bc50420b",
        "colab": {
          "base_uri": "https://localhost:8080/",
          "height": 221
        }
      },
      "source": [
        "# define a story (infectious disease) as HIV transmission among node 0-5 using \n",
        "# some node variables\n",
        "node_attr = ['hiv_status', 'syphilis_status', 'viral_load']\n",
        "\n",
        "np.random.seed(1234)\n",
        "hiv_status_array = np.random.randint(2, size=NUM_NODES)\n",
        "np.random.seed(2345)\n",
        "syphilis_status_array = np.random.randint(2, size=NUM_NODES)\n",
        "np.random.seed(3456)\n",
        "vl_array = np.random.randint(2000, size=NUM_NODES)\n",
        "\n",
        "# we compute the log of viral load as the attribute instead, and we randomly\n",
        "# set some values to zero and add a normalized function\n",
        "rand_positions = np.random.randint(NUM_NODES, size=2)\n",
        "vl_array[rand_positions] = 0\n",
        "\n",
        "print(\"# HIV status for each node\")\n",
        "print(hiv_status_array)\n",
        "\n",
        "print(\"# Syphilis status for each node\")\n",
        "print(syphilis_status_array)\n",
        "\n",
        "print(\"# Viral load for each node after random bzeros\")\n",
        "print(vl_array)\n",
        "\n",
        "# combine the three attributes to one\n",
        "attr_array = np.concatenate((hiv_status_array, syphilis_status_array, vl_array),\n",
        "                            axis=0)\n",
        "attr_array = np.reshape(attr_array, (len(node_attr), hiv_status_array.shape[0]))\n",
        "attr_array = attr_array.astype(float)\n",
        "print(\"# The overall attribute list\")\n",
        "print(attr_array)\n",
        "\n",
        "# the index of each attributes\n",
        "attr2index = {node_attr[i]:i for i in range(len(node_attr))}\n",
        "print(\"# The index of each attribute\")\n",
        "print(attr2index)"
      ],
      "execution_count": 20,
      "outputs": [
        {
          "output_type": "stream",
          "text": [
            "# HIV status for each node\n",
            "[1 1 0 1 0]\n",
            "# Syphilis status for each node\n",
            "[0 1 0 0 0]\n",
            "# Viral load for each node after random bzeros\n",
            "[667 226 450   0   0]\n",
            "# The overall attribute list\n",
            "[[  1.   1.   0.   1.   0.]\n",
            " [  0.   1.   0.   0.   0.]\n",
            " [667. 226. 450.   0.   0.]]\n",
            "# The index of each attribute\n",
            "{'hiv_status': 0, 'syphilis_status': 1, 'viral_load': 2}\n"
          ],
          "name": "stdout"
        }
      ]
    },
    {
      "cell_type": "markdown",
      "metadata": {
        "id": "VLVokM0uGLtP",
        "colab_type": "text"
      },
      "source": [
        "## Define the function for exposure computation"
      ]
    },
    {
      "cell_type": "code",
      "metadata": {
        "id": "pXwU7RSmFe4L",
        "colab_type": "code",
        "colab": {}
      },
      "source": [
        "def compute_exposure(attr_name, attr_array, attr2index, adj_matrix):\n",
        "  # get the certain attribute for the whole graph\n",
        "  attributes = attr_array[:, attr2index[attr_name]]\n",
        "  print(\"# The values for attribute {} are {}\".format(attr_name, attributes))\n",
        "  # zero the diagnal vector\n",
        "  np.fill_diagonal(adj_matrix, 0)\n",
        "  # after bzero the diagonal of the adj matrix\n",
        "  print(\"\\n# The adj matrix after zeroing the diagnal vector\\n\")\n",
        "  print(adj_matrix)\n",
        "  # number of neighbors for each node\n",
        "  row_sum = np.sum(adj_matrix, axis=1)\n",
        "  return np.dot(adj_matrix, attributes) / np.where(row_sum > 0, row_sum, 1e-13)"
      ],
      "execution_count": 0,
      "outputs": []
    },
    {
      "cell_type": "markdown",
      "metadata": {
        "id": "jDHMwawlGjVc",
        "colab_type": "text"
      },
      "source": [
        "## Define the function to normalize attributes for each node."
      ]
    },
    {
      "cell_type": "code",
      "metadata": {
        "id": "ZIL80HaMFjHj",
        "colab_type": "code",
        "colab": {}
      },
      "source": [
        "def normalize_attributes(attributes, header):\n",
        "  eposilon = 1e-12\n",
        "  for index, att in enumerate(attributes):\n",
        "    attr_name = header[index]\n",
        "    if len(str(att)) == 0:\n",
        "      attributes[index] = eposilon\n",
        "    if 'viral_load' == attr_name:\n",
        "      if attributes[index] < eposilon:\n",
        "        attributes[index] = 0.0\n",
        "      else:\n",
        "        attributes[index] = np.log(attributes[index])\n",
        "  return attributes"
      ],
      "execution_count": 0,
      "outputs": []
    },
    {
      "cell_type": "markdown",
      "metadata": {
        "id": "9Rs0RD4FIlKU",
        "colab_type": "text"
      },
      "source": [
        "## The demo computation"
      ]
    },
    {
      "cell_type": "code",
      "metadata": {
        "id": "SO2kshOqIqKa",
        "colab_type": "code",
        "outputId": "177a1826-28b5-4814-a244-7537999d9feb",
        "colab": {
          "base_uri": "https://localhost:8080/",
          "height": 187
        }
      },
      "source": [
        "# normalize attributes for each node\n",
        "attr_array = np.transpose(attr_array)\n",
        "print(attr_array)\n",
        "attr_array = [normalize_attributes(attributes, node_attr) for attributes in attr_array]\n",
        "# attr_array = np.transpose(node2attrs)\n",
        "attr_array = np.asarray(attr_array)\n",
        "print(attr_array)"
      ],
      "execution_count": 23,
      "outputs": [
        {
          "output_type": "stream",
          "text": [
            "[[  1.   0. 667.]\n",
            " [  1.   1. 226.]\n",
            " [  0.   0. 450.]\n",
            " [  1.   0.   0.]\n",
            " [  0.   0.   0.]]\n",
            "[[1.         0.         6.50279005]\n",
            " [1.         1.         5.420535  ]\n",
            " [0.         0.         6.10924758]\n",
            " [1.         0.         0.        ]\n",
            " [0.         0.         0.        ]]\n"
          ],
          "name": "stdout"
        }
      ]
    },
    {
      "cell_type": "code",
      "metadata": {
        "id": "GYeh_JyKZ161",
        "colab_type": "code",
        "colab": {
          "base_uri": "https://localhost:8080/",
          "height": 629
        },
        "outputId": "f5018c7b-7b74-4177-febe-e72d657904a8"
      },
      "source": [
        "# compute exposure variables\n",
        "attr_name = 'hiv_status'\n",
        "exposure = compute_exposure(attr_name, attr_array, attr2index, adj_matrix)\n",
        "print(\"\\n# The network exposure for {} is {}\\n\".format(attr_name, exposure))\n",
        "\n",
        "attr_name = 'syphilis_status'\n",
        "exposure = compute_exposure(attr_name, attr_array, attr2index, adj_matrix)\n",
        "print(\"\\n# The network exposure for {} is {}\\n\".format(attr_name, exposure))\n",
        "\n",
        "attr_name = 'viral_load'\n",
        "exposure = compute_exposure(attr_name, attr_array, attr2index, adj_matrix)\n",
        "print(\"\\n# The network exposure for {} is {}\\n\".format(attr_name, exposure))"
      ],
      "execution_count": 32,
      "outputs": [
        {
          "output_type": "stream",
          "text": [
            "# The values for attribute hiv_status are [1. 1. 0. 1. 0.]\n",
            "\n",
            "# The adj matrix after zeroing the diagnal vector\n",
            "\n",
            "[[0 1 1 1 0]\n",
            " [1 0 1 0 0]\n",
            " [1 1 0 0 1]\n",
            " [1 0 0 0 1]\n",
            " [0 0 1 1 0]]\n",
            "\n",
            "# The network exposure for hiv_status is [0.66666667 0.5        0.66666667 0.5        0.5       ]\n",
            "\n",
            "# The values for attribute syphilis_status are [0. 1. 0. 0. 0.]\n",
            "\n",
            "# The adj matrix after zeroing the diagnal vector\n",
            "\n",
            "[[0 1 1 1 0]\n",
            " [1 0 1 0 0]\n",
            " [1 1 0 0 1]\n",
            " [1 0 0 0 1]\n",
            " [0 0 1 1 0]]\n",
            "\n",
            "# The network exposure for syphilis_status is [0.33333333 0.         0.33333333 0.         0.        ]\n",
            "\n",
            "# The values for attribute viral_load are [6.50279005 5.420535   6.10924758 0.         0.        ]\n",
            "\n",
            "# The adj matrix after zeroing the diagnal vector\n",
            "\n",
            "[[0 1 1 1 0]\n",
            " [1 0 1 0 0]\n",
            " [1 1 0 0 1]\n",
            " [1 0 0 0 1]\n",
            " [0 0 1 1 0]]\n",
            "\n",
            "# The network exposure for viral_load is [3.84326086 6.30601881 3.97444168 3.25139502 3.05462379]\n",
            "\n"
          ],
          "name": "stdout"
        }
      ]
    },
    {
      "cell_type": "markdown",
      "metadata": {
        "id": "kFW28sLGg06a",
        "colab_type": "text"
      },
      "source": [
        "Thus, for example, when determining the viral load of node 0, not only 6.50279005 but also 3.84326086 should be considered."
      ]
    }
  ]
}